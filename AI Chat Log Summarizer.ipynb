{
 "cells": [
  {
   "cell_type": "markdown",
   "id": "08077151-098a-455b-a97c-c81cb1659655",
   "metadata": {},
   "source": [
    "#### Import necessary libraires and download resources"
   ]
  },
  {
   "cell_type": "code",
   "execution_count": 13,
   "id": "047621b7-da87-4f31-9e1a-d964a40feb44",
   "metadata": {},
   "outputs": [
    {
     "name": "stderr",
     "output_type": "stream",
     "text": [
      "[nltk_data] Downloading package punkt_tab to\n",
      "[nltk_data]     C:\\Users\\User\\AppData\\Roaming\\nltk_data...\n",
      "[nltk_data]   Package punkt_tab is already up-to-date!\n",
      "[nltk_data] Downloading package stopwords to\n",
      "[nltk_data]     C:\\Users\\User\\AppData\\Roaming\\nltk_data...\n",
      "[nltk_data]   Package stopwords is already up-to-date!\n"
     ]
    },
    {
     "data": {
      "text/plain": [
       "True"
      ]
     },
     "execution_count": 13,
     "metadata": {},
     "output_type": "execute_result"
    }
   ],
   "source": [
    "import nltk\n",
    "from nltk.tokenize import word_tokenize\n",
    "\n",
    "nltk.download('punkt_tab')\n",
    "nltk.download('stopwords')"
   ]
  },
  {
   "cell_type": "markdown",
   "id": "c980def2-c144-4ab6-a26f-6c6914e46ba7",
   "metadata": {},
   "source": [
    "#### Input chat log file and store messages in appropriate structures for further analysis."
   ]
  },
  {
   "cell_type": "code",
   "execution_count": 14,
   "id": "5101aad6-9da2-410d-a95b-c7084b041768",
   "metadata": {},
   "outputs": [
    {
     "name": "stdout",
     "output_type": "stream",
     "text": [
      "User messages: \n",
      "     Hi, can you tell me about Python?\n",
      "     What can I use it for?\n",
      "AI messages: \n",
      "     Sure! Python is a popular programming language known for its readability.\n",
      "     You can use Python for web development, data analysis, AI, and more.\n",
      "All words: \n",
      "['hi', ',', 'can', 'you', 'tell', 'me', 'about', 'python', '?', 'sure', '!', 'python', 'is', 'a', 'popular', 'programming', 'language', 'known', 'for', 'its', 'readability', '.', 'what', 'can', 'i', 'use', 'it', 'for', '?', 'you', 'can', 'use', 'python', 'for', 'web', 'development', ',', 'data', 'analysis', ',', 'ai', ',', 'and', 'more', '.']\n"
     ]
    }
   ],
   "source": [
    "file_path = 'input.txt'\n",
    "\n",
    "with open(file_path, 'r', encoding='utf-8') as file:\n",
    "    lines = file.readlines()\n",
    "\n",
    "user_messages = []\n",
    "AI_messages = []\n",
    "words = []\n",
    "\n",
    "for line in lines:\n",
    "    line = line.strip()\n",
    "    if line.startswith(\"User:\"):\n",
    "        message = line[len(\"User:\"):].strip()\n",
    "        user_messages.append(message)\n",
    "        words.extend(word_tokenize(message.lower()))\n",
    "    elif line.startswith(\"AI:\"):\n",
    "        message = line[len(\"AI:\"):].strip()\n",
    "        AI_messages.append(message)\n",
    "        words.extend(word_tokenize(message.lower()))\n",
    "        \n",
    "print('User messages: ')\n",
    "for message in user_messages:\n",
    "    print('     ' + message)\n",
    "    \n",
    "print('AI messages: ')\n",
    "for message in AI_messages:\n",
    "    print('     ' + message)\n",
    "\n",
    "print('All words: ')\n",
    "print(words)"
   ]
  },
  {
   "cell_type": "code",
   "execution_count": null,
   "id": "ea30cf5b-bbb9-4b3e-913f-614a87d97831",
   "metadata": {},
   "outputs": [],
   "source": []
  }
 ],
 "metadata": {
  "kernelspec": {
   "display_name": "Python 3 (ipykernel)",
   "language": "python",
   "name": "python3"
  },
  "language_info": {
   "codemirror_mode": {
    "name": "ipython",
    "version": 3
   },
   "file_extension": ".py",
   "mimetype": "text/x-python",
   "name": "python",
   "nbconvert_exporter": "python",
   "pygments_lexer": "ipython3",
   "version": "3.13.3"
  }
 },
 "nbformat": 4,
 "nbformat_minor": 5
}
