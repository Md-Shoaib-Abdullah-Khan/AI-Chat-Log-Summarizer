{
 "cells": [
  {
   "cell_type": "markdown",
   "id": "08077151-098a-455b-a97c-c81cb1659655",
   "metadata": {},
   "source": [
    "## Import necessary libraires and download resources"
   ]
  },
  {
   "cell_type": "code",
   "execution_count": 18,
   "id": "047621b7-da87-4f31-9e1a-d964a40feb44",
   "metadata": {},
   "outputs": [
    {
     "name": "stderr",
     "output_type": "stream",
     "text": [
      "[nltk_data] Downloading package punkt_tab to\n",
      "[nltk_data]     C:\\Users\\User\\AppData\\Roaming\\nltk_data...\n",
      "[nltk_data]   Package punkt_tab is already up-to-date!\n",
      "[nltk_data] Downloading package stopwords to\n",
      "[nltk_data]     C:\\Users\\User\\AppData\\Roaming\\nltk_data...\n",
      "[nltk_data]   Package stopwords is already up-to-date!\n"
     ]
    },
    {
     "data": {
      "text/plain": [
       "True"
      ]
     },
     "execution_count": 18,
     "metadata": {},
     "output_type": "execute_result"
    }
   ],
   "source": [
    "import nltk\n",
    "from nltk.tokenize import word_tokenize\n",
    "from nltk.corpus import stopwords\n",
    "from collections import Counter\n",
    "from langchain.llms import Ollama\n",
    "from langchain.prompts import PromptTemplate\n",
    "from langchain.chains import LLMChain\n",
    "\n",
    "nltk.download('punkt_tab')\n",
    "nltk.download('stopwords')"
   ]
  },
  {
   "cell_type": "markdown",
   "id": "c980def2-c144-4ab6-a26f-6c6914e46ba7",
   "metadata": {},
   "source": [
    "## Input chat log file and store messages in appropriate structures for further analysis."
   ]
  },
  {
   "cell_type": "code",
   "execution_count": 19,
   "id": "5101aad6-9da2-410d-a95b-c7084b041768",
   "metadata": {},
   "outputs": [
    {
     "name": "stdout",
     "output_type": "stream",
     "text": [
      "User messages: \n",
      "     Hi, can you tell me about Python?\n",
      "     What can I use it for?\n",
      "AI messages: \n",
      "     Sure! Python is a popular programming language known for its readability.\n",
      "     You can use Python for web development, data analysis, AI, and more.\n",
      "All words: \n",
      "['hi', ',', 'can', 'you', 'tell', 'me', 'about', 'python', '?', 'sure', '!', 'python', 'is', 'a', 'popular', 'programming', 'language', 'known', 'for', 'its', 'readability', '.', 'what', 'can', 'i', 'use', 'it', 'for', '?', 'you', 'can', 'use', 'python', 'for', 'web', 'development', ',', 'data', 'analysis', ',', 'ai', ',', 'and', 'more', '.']\n"
     ]
    }
   ],
   "source": [
    "file_path = 'input.txt'\n",
    "\n",
    "with open(file_path, 'r', encoding='utf-8') as file:\n",
    "    lines = file.readlines()\n",
    "\n",
    "user_messages = []\n",
    "AI_messages = []\n",
    "words = []\n",
    "\n",
    "for line in lines:\n",
    "    line = line.strip()\n",
    "    if line.startswith(\"User:\"):\n",
    "        message = line[len(\"User:\"):].strip()\n",
    "        user_messages.append(message)\n",
    "        words.extend(word_tokenize(message.lower()))\n",
    "    elif line.startswith(\"AI:\"):\n",
    "        message = line[len(\"AI:\"):].strip()\n",
    "        AI_messages.append(message)\n",
    "        words.extend(word_tokenize(message.lower()))\n",
    "        \n",
    "print('User messages: ')\n",
    "for message in user_messages:\n",
    "    print('     ' + message)\n",
    "    \n",
    "print('AI messages: ')\n",
    "for message in AI_messages:\n",
    "    print('     ' + message)\n",
    "\n",
    "print('All words: ')\n",
    "print(words)"
   ]
  },
  {
   "cell_type": "markdown",
   "id": "fc0ad859-e085-4d9a-8b8d-072b9e4b9333",
   "metadata": {},
   "source": [
    "## Message Statistics\n",
    "* Count total messages.\n",
    "* Count messages from User vs. AI.\n"
   ]
  },
  {
   "cell_type": "code",
   "execution_count": 20,
   "id": "ea30cf5b-bbb9-4b3e-913f-614a87d97831",
   "metadata": {},
   "outputs": [
    {
     "name": "stdout",
     "output_type": "stream",
     "text": [
      "Numer of user messages: 2\n",
      "Numer of AI messages: 2\n",
      "Numer of total messages: 4\n"
     ]
    }
   ],
   "source": [
    "user_message_count = len(user_messages)\n",
    "AI_message_count = len(AI_messages)\n",
    "total_messages = user_message_count + AI_message_count\n",
    "\n",
    "print(f'Numer of user messages: {user_message_count}')\n",
    "print(f'Numer of AI messages: {AI_message_count}')\n",
    "print(f'Numer of total messages: {total_messages}')"
   ]
  },
  {
   "cell_type": "markdown",
   "id": "3b6bd6be-afc1-4bcc-b72d-08f7d7b992bd",
   "metadata": {},
   "source": [
    "## Keyword Analysis:\n",
    "* Extract the top 5 most frequently used words.\n",
    "* Exclude common stop words (e.g., \"the\", \"is\", \"and\").\n"
   ]
  },
  {
   "cell_type": "code",
   "execution_count": 21,
   "id": "e7d06bf0-5a32-4bb3-9290-6d06b7aebdfc",
   "metadata": {},
   "outputs": [
    {
     "name": "stdout",
     "output_type": "stream",
     "text": [
      "['hi', 'tell', 'python', 'sure', 'python', 'popular', 'programming', 'language', 'known', 'readability', 'use', 'use', 'python', 'web', 'development', 'data', 'analysis', 'ai']\n"
     ]
    }
   ],
   "source": [
    "stop_words = set(stopwords.words('English'))\n",
    "\n",
    "cleaned_words = [word for word in words\n",
    "                if word not in stop_words and word.isalpha() ]\n",
    "\n",
    "print(cleaned_words)"
   ]
  },
  {
   "cell_type": "code",
   "execution_count": 22,
   "id": "c77e7f45-02eb-444b-b24d-43c18dcbf934",
   "metadata": {},
   "outputs": [
    {
     "name": "stdout",
     "output_type": "stream",
     "text": [
      "['python', 'use', 'hi', 'tell', 'sure']\n"
     ]
    }
   ],
   "source": [
    "top_n_words = 5\n",
    "most_common_words_tuple = Counter(cleaned_words).most_common(top_n_words)\n",
    "\n",
    "most_common_words = []\n",
    "for most_common_word in most_common_words_tuple:\n",
    "    most_common_words.append(most_common_word[0])\n",
    "\n",
    "print(most_common_words)"
   ]
  },
  {
   "cell_type": "markdown",
   "id": "0301914c-7223-4b08-955a-7e2b260978dd",
   "metadata": {},
   "source": [
    "## Nature of the conversation:\n"
   ]
  },
  {
   "cell_type": "code",
   "execution_count": 23,
   "id": "ba1d080a-1be6-4ae1-893c-1288001b4c8a",
   "metadata": {},
   "outputs": [
    {
     "name": "stdout",
     "output_type": "stream",
     "text": [
      "The conversation likely involved someone asking for help or guidance on how to use Python, possibly starting with a greeting (\"hi\") and expressing a desire to be reassured (\"sure\").\n"
     ]
    }
   ],
   "source": [
    "keyword_str = ', '.join(most_common_words)\n",
    "\n",
    "template = f\"\"\"\n",
    "You are a helpful AI assistant.\n",
    "\n",
    "The following are the top 5 keywords from a conversation:\n",
    "{keyword_str}\n",
    "\n",
    "Based on these keywords, describe the nature or topic of the conversation in 1 sentence.\n",
    "\"\"\"\n",
    "prompt = PromptTemplate.from_template(template)\n",
    "\n",
    "llm = Ollama(model=\"gemma3:latest\")\n",
    "\n",
    "chain = LLMChain(llm=llm, prompt=prompt)\n",
    "\n",
    "result = chain.run(keywords=keyword_str)\n",
    "\n",
    "print(result)"
   ]
  },
  {
   "cell_type": "code",
   "execution_count": null,
   "id": "c32d9152-6329-49a6-95f1-48063ebf1e98",
   "metadata": {},
   "outputs": [],
   "source": []
  }
 ],
 "metadata": {
  "kernelspec": {
   "display_name": "Python 3 (ipykernel)",
   "language": "python",
   "name": "python3"
  },
  "language_info": {
   "codemirror_mode": {
    "name": "ipython",
    "version": 3
   },
   "file_extension": ".py",
   "mimetype": "text/x-python",
   "name": "python",
   "nbconvert_exporter": "python",
   "pygments_lexer": "ipython3",
   "version": "3.13.3"
  }
 },
 "nbformat": 4,
 "nbformat_minor": 5
}
