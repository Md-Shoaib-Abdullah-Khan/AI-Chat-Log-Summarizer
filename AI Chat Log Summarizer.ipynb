{
 "cells": [
  {
   "cell_type": "markdown",
   "id": "08077151-098a-455b-a97c-c81cb1659655",
   "metadata": {},
   "source": [
    "## Import necessary libraires and download resources"
   ]
  },
  {
   "cell_type": "code",
   "execution_count": 13,
   "id": "047621b7-da87-4f31-9e1a-d964a40feb44",
   "metadata": {},
   "outputs": [
    {
     "name": "stderr",
     "output_type": "stream",
     "text": [
      "[nltk_data] Downloading package punkt_tab to\n",
      "[nltk_data]     C:\\Users\\User\\AppData\\Roaming\\nltk_data...\n",
      "[nltk_data]   Package punkt_tab is already up-to-date!\n",
      "[nltk_data] Downloading package stopwords to\n",
      "[nltk_data]     C:\\Users\\User\\AppData\\Roaming\\nltk_data...\n",
      "[nltk_data]   Package stopwords is already up-to-date!\n"
     ]
    },
    {
     "data": {
      "text/plain": [
       "True"
      ]
     },
     "execution_count": 13,
     "metadata": {},
     "output_type": "execute_result"
    }
   ],
   "source": [
    "import os\n",
    "import nltk\n",
    "from nltk.tokenize import word_tokenize\n",
    "from nltk.corpus import stopwords\n",
    "from collections import Counter\n",
    "from langchain.llms import Ollama\n",
    "from langchain.prompts import PromptTemplate\n",
    "from langchain.chains import LLMChain\n",
    "\n",
    "nltk.download('punkt_tab')\n",
    "nltk.download('stopwords')"
   ]
  },
  {
   "cell_type": "markdown",
   "id": "c980def2-c144-4ab6-a26f-6c6914e46ba7",
   "metadata": {},
   "source": [
    "## Input chat log file and store messages in appropriate structures for further analysis."
   ]
  },
  {
   "cell_type": "code",
   "execution_count": 14,
   "id": "5101aad6-9da2-410d-a95b-c7084b041768",
   "metadata": {},
   "outputs": [
    {
     "name": "stdout",
     "output_type": "stream",
     "text": [
      "User messages: \n",
      "     Hi, can you tell me about Python?\n",
      "     What can I use it for?\n",
      "AI messages: \n",
      "     Sure! Python is a popular programming language known for its readability.\n",
      "     You can use Python for web development, data analysis, AI, and more.\n",
      "All words: \n",
      "['hi', ',', 'can', 'you', 'tell', 'me', 'about', 'python', '?', 'sure', '!', 'python', 'is', 'a', 'popular', 'programming', 'language', 'known', 'for', 'its', 'readability', '.', 'what', 'can', 'i', 'use', 'it', 'for', '?', 'you', 'can', 'use', 'python', 'for', 'web', 'development', ',', 'data', 'analysis', ',', 'ai', ',', 'and', 'more', '.']\n"
     ]
    },
    {
     "name": "stderr",
     "output_type": "stream",
     "text": [
      "<>:1: SyntaxWarning: invalid escape sequence '\\c'\n",
      "<>:1: SyntaxWarning: invalid escape sequence '\\c'\n",
      "C:\\Users\\User\\AppData\\Local\\Temp\\ipykernel_8232\\2821346036.py:1: SyntaxWarning: invalid escape sequence '\\c'\n",
      "  file_path = '.\\chats\\input.txt'\n"
     ]
    }
   ],
   "source": [
    "file_path = '.\\chats\\input.txt'\n",
    "\n",
    "with open(file_path, 'r', encoding='utf-8') as file:\n",
    "    lines = file.readlines()\n",
    "\n",
    "user_messages = []\n",
    "AI_messages = []\n",
    "words = []\n",
    "\n",
    "for line in lines:\n",
    "    line = line.strip()\n",
    "    if line.startswith(\"User:\"):\n",
    "        message = line[len(\"User:\"):].strip()\n",
    "        user_messages.append(message)\n",
    "        words.extend(word_tokenize(message.lower()))\n",
    "    elif line.startswith(\"AI:\"):\n",
    "        message = line[len(\"AI:\"):].strip()\n",
    "        AI_messages.append(message)\n",
    "        words.extend(word_tokenize(message.lower()))\n",
    "        \n",
    "print('User messages: ')\n",
    "for message in user_messages:\n",
    "    print('     ' + message)\n",
    "    \n",
    "print('AI messages: ')\n",
    "for message in AI_messages:\n",
    "    print('     ' + message)\n",
    "\n",
    "print('All words: ')\n",
    "print(words)"
   ]
  },
  {
   "cell_type": "markdown",
   "id": "fc0ad859-e085-4d9a-8b8d-072b9e4b9333",
   "metadata": {},
   "source": [
    "## Message Statistics\n",
    "* Count total messages.\n",
    "* Count messages from User vs. AI.\n"
   ]
  },
  {
   "cell_type": "code",
   "execution_count": 15,
   "id": "ea30cf5b-bbb9-4b3e-913f-614a87d97831",
   "metadata": {},
   "outputs": [
    {
     "name": "stdout",
     "output_type": "stream",
     "text": [
      "Numer of user messages: 2\n",
      "Numer of AI messages: 2\n",
      "Numer of total messages: 4\n"
     ]
    }
   ],
   "source": [
    "user_message_count = len(user_messages)\n",
    "AI_message_count = len(AI_messages)\n",
    "total_messages = user_message_count + AI_message_count\n",
    "\n",
    "print(f'Numer of user messages: {user_message_count}')\n",
    "print(f'Numer of AI messages: {AI_message_count}')\n",
    "print(f'Numer of total messages: {total_messages}')"
   ]
  },
  {
   "cell_type": "markdown",
   "id": "3b6bd6be-afc1-4bcc-b72d-08f7d7b992bd",
   "metadata": {},
   "source": [
    "## Keyword Analysis:\n",
    "* Extract the top 5 most frequently used words.\n",
    "* Exclude common stop words (e.g., \"the\", \"is\", \"and\").\n"
   ]
  },
  {
   "cell_type": "code",
   "execution_count": 16,
   "id": "e7d06bf0-5a32-4bb3-9290-6d06b7aebdfc",
   "metadata": {},
   "outputs": [
    {
     "name": "stdout",
     "output_type": "stream",
     "text": [
      "['hi', 'tell', 'python', 'sure', 'python', 'popular', 'programming', 'language', 'known', 'readability', 'use', 'use', 'python', 'web', 'development', 'data', 'analysis', 'ai']\n"
     ]
    }
   ],
   "source": [
    "stop_words = set(stopwords.words('English'))\n",
    "\n",
    "cleaned_words = [word for word in words\n",
    "                if word not in stop_words and word.isalpha() ]\n",
    "\n",
    "print(cleaned_words)"
   ]
  },
  {
   "cell_type": "code",
   "execution_count": 17,
   "id": "c77e7f45-02eb-444b-b24d-43c18dcbf934",
   "metadata": {},
   "outputs": [
    {
     "name": "stdout",
     "output_type": "stream",
     "text": [
      "['python', 'use', 'hi', 'tell', 'sure']\n"
     ]
    }
   ],
   "source": [
    "top_n_words = 5\n",
    "most_common_words_tuple = Counter(cleaned_words).most_common(top_n_words)\n",
    "\n",
    "most_common_words = []\n",
    "for most_common_word in most_common_words_tuple:\n",
    "    most_common_words.append(most_common_word[0])\n",
    "\n",
    "print(most_common_words)"
   ]
  },
  {
   "cell_type": "markdown",
   "id": "0301914c-7223-4b08-955a-7e2b260978dd",
   "metadata": {},
   "source": [
    "## Nature of the conversation:\n"
   ]
  },
  {
   "cell_type": "code",
   "execution_count": 18,
   "id": "ba1d080a-1be6-4ae1-893c-1288001b4c8a",
   "metadata": {},
   "outputs": [
    {
     "name": "stdout",
     "output_type": "stream",
     "text": [
      "The conversation likely involved a user asking the AI for assistance with using Python.\n"
     ]
    }
   ],
   "source": [
    "keyword_str = ', '.join(most_common_words)\n",
    "\n",
    "template = f\"\"\"\n",
    "You are a helpful AI assistant.\n",
    "\n",
    "The following are the top 5 keywords from a conversation between an user and an AI assistance:\n",
    "{keyword_str}\n",
    "\n",
    "Based on these keywords, describe the nature or topic of the conversation in short  in 1 sentence.\n",
    "\"\"\"\n",
    "prompt = PromptTemplate.from_template(template)\n",
    "\n",
    "llm = Ollama(model=\"gemma3:latest\")\n",
    "\n",
    "chain = LLMChain(llm=llm, prompt=prompt)\n",
    "\n",
    "conversation_nature = chain.run(keywords=keyword_str)\n",
    "\n",
    "print(conversation_nature)"
   ]
  },
  {
   "cell_type": "markdown",
   "id": "a95b8557-bd0d-4842-9bd1-1b31aa0d5305",
   "metadata": {},
   "source": [
    "## Summary:\n"
   ]
  },
  {
   "cell_type": "code",
   "execution_count": 19,
   "id": "c32d9152-6329-49a6-95f1-48063ebf1e98",
   "metadata": {},
   "outputs": [
    {
     "name": "stdout",
     "output_type": "stream",
     "text": [
      "\n",
      "Summary:\n",
      "- The conversation had 4 exchanges.\n",
      "- The conversation likely involved a user asking the AI for assistance with using Python.\n",
      "- Most common keywords: python, use, hi, tell, sure\n",
      "\n"
     ]
    }
   ],
   "source": [
    "summary = f\"\"\"\n",
    "Summary:\n",
    "- The conversation had {total_messages} exchanges.\n",
    "- {conversation_nature}\n",
    "- Most common keywords: {', '.join(most_common_words)}\n",
    "\"\"\"\n",
    "print(summary)"
   ]
  },
  {
   "cell_type": "markdown",
   "id": "7ba4a0e9-7dac-426f-8695-b885cb8b8e6a",
   "metadata": {},
   "source": [
    "## Chat summariza:\n"
   ]
  },
  {
   "cell_type": "code",
   "execution_count": 26,
   "id": "306d64de-8fdc-4ef6-86f2-0e59e77b0597",
   "metadata": {},
   "outputs": [
    {
     "name": "stdout",
     "output_type": "stream",
     "text": [
      "\n",
      "Summary of chat 1:\n",
      "    - The conversation had 4 exchanges.\n",
      "    - The conversation likely involved the user asking the AI assistant for help with using Python.\n",
      "    - Most common keywords: python, use, hi, tell, sure\n",
      "    \n",
      "\n",
      "Summary of chat 2:\n",
      "    - The conversation had 4 exchanges.\n",
      "    - The conversation likely revolved around an initial greeting and an inquiry about utilizing artificial intelligence, specifically machine learning, for assistance.\n",
      "    - Most common keywords: machine, learning, hello, hi, assist\n",
      "    \n"
     ]
    }
   ],
   "source": [
    "count = 1\n",
    "for filename in os.listdir(folder_path):\n",
    "    if filename.endswith(\".txt\"):\n",
    "        file_path = os.path.join(folder_path, filename)\n",
    "\n",
    "        with open(file_path, 'r', encoding='utf-8') as file:\n",
    "            lines = file.readlines()\n",
    "    \n",
    "        user_messages = []\n",
    "        AI_messages = []\n",
    "        words = []\n",
    "        \n",
    "        for line in lines:\n",
    "            line = line.strip()\n",
    "            if line.startswith(\"User:\"):\n",
    "                message = line[len(\"User:\"):].strip()\n",
    "                user_messages.append(message)\n",
    "                words.extend(word_tokenize(message.lower()))\n",
    "            elif line.startswith(\"AI:\"):\n",
    "                message = line[len(\"AI:\"):].strip()\n",
    "                AI_messages.append(message)\n",
    "                words.extend(word_tokenize(message.lower()))   \n",
    "\n",
    "        user_message_count = len(user_messages)\n",
    "        AI_message_count = len(AI_messages)\n",
    "        total_messages = user_message_count + AI_message_count\n",
    "\n",
    "        stop_words = set(stopwords.words('English'))\n",
    "\n",
    "        cleaned_words = [word for word in words\n",
    "                        if word not in stop_words and word.isalpha() ]\n",
    "\n",
    "        top_n_words = 5\n",
    "        most_common_words_tuple = Counter(cleaned_words).most_common(top_n_words)\n",
    "        \n",
    "        most_common_words = []\n",
    "        for most_common_word in most_common_words_tuple:\n",
    "            most_common_words.append(most_common_word[0])\n",
    "\n",
    "        keyword_str = ', '.join(most_common_words)\n",
    "\n",
    "        template = f\"\"\"\n",
    "        You are a helpful AI assistant.\n",
    "        \n",
    "        The following are the top 5 keywords from a conversation between an user and an AI assistance:\n",
    "        {keyword_str}\n",
    "        \n",
    "        Based on these keywords, describe the nature or topic of the conversation in short  in 1 sentence.\n",
    "        \"\"\"\n",
    "        prompt = PromptTemplate.from_template(template)\n",
    "        \n",
    "        llm = Ollama(model=\"gemma3:latest\")\n",
    "        \n",
    "        chain = LLMChain(llm=llm, prompt=prompt)\n",
    "        \n",
    "        conversation_nature = chain.run(keywords=keyword_str)\n",
    "        summary = f\"\"\"\n",
    "Summary of chat {count}:\n",
    "    - The conversation had {total_messages} exchanges.\n",
    "    - {conversation_nature}\n",
    "    - Most common keywords: {', '.join(most_common_words)}\n",
    "    \"\"\"\n",
    "        count += 1;\n",
    "        print(summary)"
   ]
  },
  {
   "cell_type": "code",
   "execution_count": null,
   "id": "94154495-5881-4d6a-8d08-661093ae074b",
   "metadata": {},
   "outputs": [],
   "source": []
  }
 ],
 "metadata": {
  "kernelspec": {
   "display_name": "Python 3 (ipykernel)",
   "language": "python",
   "name": "python3"
  },
  "language_info": {
   "codemirror_mode": {
    "name": "ipython",
    "version": 3
   },
   "file_extension": ".py",
   "mimetype": "text/x-python",
   "name": "python",
   "nbconvert_exporter": "python",
   "pygments_lexer": "ipython3",
   "version": "3.13.3"
  }
 },
 "nbformat": 4,
 "nbformat_minor": 5
}
